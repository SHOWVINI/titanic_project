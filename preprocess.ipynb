{
 "cells": [
  {
   "cell_type": "code",
   "execution_count": 3,
   "metadata": {},
   "outputs": [],
   "source": [
    "# preprocess.py\n",
    "\n",
    "import pandas as pd\n",
    "\n",
    "# 데이터 로드\n",
    "df = pd.read_csv('data/train.csv')\n",
    "\n",
    "# 결측치 처리 예시\n",
    "# 수치형 열만 선택하여 결측치를 평균으로 채움\n",
    "num_cols = df.select_dtypes(include=['number']).columns  # 수치형 열 선택\n",
    "df[num_cols] = df[num_cols].fillna(df[num_cols].mean())\n",
    "\n",
    "# 범주형 열의 결측치는 최빈값으로 채움\n",
    "cat_cols = df.select_dtypes(include=['object']).columns  # 범주형 열 선택\n",
    "for col in cat_cols:\n",
    "    df[col].fillna(df[col].mode()[0], inplace=True)\n",
    "\n",
    "# 모든 열을 원-핫 인코딩\n",
    "df = pd.get_dummies(df, drop_first=True)\n",
    "\n",
    "# 전처리된 데이터 저장\n",
    "df.to_csv('data/train_preprocessed.csv', index=False)\n"
   ]
  }
 ],
 "metadata": {
  "kernelspec": {
   "display_name": "practice_dvc_alone-env",
   "language": "python",
   "name": "python3"
  },
  "language_info": {
   "codemirror_mode": {
    "name": "ipython",
    "version": 3
   },
   "file_extension": ".py",
   "mimetype": "text/x-python",
   "name": "python",
   "nbconvert_exporter": "python",
   "pygments_lexer": "ipython3",
   "version": "3.8.20"
  }
 },
 "nbformat": 4,
 "nbformat_minor": 2
}
